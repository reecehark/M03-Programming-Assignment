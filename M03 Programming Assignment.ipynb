{
 "cells": [
  {
   "cell_type": "code",
   "execution_count": 1,
   "id": "22c90392",
   "metadata": {},
   "outputs": [],
   "source": [
    "#7.4\n",
    "things = [\"mozzarella\", \"cinderella\", \"salmonella\"]"
   ]
  },
  {
   "cell_type": "code",
   "execution_count": 2,
   "id": "63350c57",
   "metadata": {},
   "outputs": [
    {
     "name": "stdout",
     "output_type": "stream",
     "text": [
      "['mozzarella', 'Cinderella', 'salmonella']\n"
     ]
    }
   ],
   "source": [
    "#7.5\n",
    "things = [\"mozzarella\", \"cinderella\", \"salmonella\"]\n",
    "\n",
    "things[1] = things[1].capitalize()\n",
    "\n",
    "print(things)\n",
    "#It changed only cinderella"
   ]
  },
  {
   "cell_type": "code",
   "execution_count": 3,
   "id": "a52a2922",
   "metadata": {},
   "outputs": [
    {
     "name": "stdout",
     "output_type": "stream",
     "text": [
      "['MOZZARELLA', 'Cinderella', 'salmonella']\n"
     ]
    }
   ],
   "source": [
    "#7.6\n",
    "things = [\"mozzarella\", \"Cinderella\", \"salmonella\"]\n",
    "\n",
    "things[0] = things[0].upper()\n",
    "\n",
    "print(things)"
   ]
  },
  {
   "cell_type": "code",
   "execution_count": 4,
   "id": "6a0f76c3",
   "metadata": {},
   "outputs": [
    {
     "name": "stdout",
     "output_type": "stream",
     "text": [
      "['MOZZARELLA', 'Cinderella']\n"
     ]
    }
   ],
   "source": [
    "#7.7\n",
    "things = [\"MOZZARELLA\", \"Cinderella\", \"salmonella\"]\n",
    "\n",
    "del things[2]\n",
    "\n",
    "print(things)"
   ]
  },
  {
   "cell_type": "code",
   "execution_count": 6,
   "id": "74a4d9e1",
   "metadata": {},
   "outputs": [
    {
     "name": "stdout",
     "output_type": "stream",
     "text": [
      "['Harry', 'Ron', 'Hermione']\n"
     ]
    }
   ],
   "source": [
    "#9.1\n",
    "def good():\n",
    "    return ['Harry', 'Ron', 'Hermione']\n",
    "my_list = good()\n",
    "print(my_list)"
   ]
  },
  {
   "cell_type": "code",
   "execution_count": 7,
   "id": "c80ad6cc",
   "metadata": {},
   "outputs": [
    {
     "name": "stdout",
     "output_type": "stream",
     "text": [
      "The third odd number is: 5\n"
     ]
    }
   ],
   "source": [
    "#9.2\n",
    "def get_odds():\n",
    "    for number in range(1, 10, 2):\n",
    "        yield number\n",
    "\n",
    "count = 0\n",
    "for odd in get_odds():\n",
    "    count += 1\n",
    "    if count == 3:\n",
    "        print(\"The third odd number is:\", odd)\n",
    "        break"
   ]
  }
 ],
 "metadata": {
  "kernelspec": {
   "display_name": "Python 3 (ipykernel)",
   "language": "python",
   "name": "python3"
  },
  "language_info": {
   "codemirror_mode": {
    "name": "ipython",
    "version": 3
   },
   "file_extension": ".py",
   "mimetype": "text/x-python",
   "name": "python",
   "nbconvert_exporter": "python",
   "pygments_lexer": "ipython3",
   "version": "3.10.9"
  }
 },
 "nbformat": 4,
 "nbformat_minor": 5
}
